{
 "cells": [
  {
   "cell_type": "code",
   "execution_count": 1,
   "metadata": {},
   "outputs": [],
   "source": [
    "#Graph - pictorial representation of a set of objects\n",
    "#some pairs of objects are connected by links\n",
    "#points - vertices\n",
    "#links connecting vertices - edges\n",
    "\n",
    "#graphs easily presented using dictonaries in Python\n",
    "#vertices - keys\n",
    "#edges - values"
   ]
  },
  {
   "cell_type": "code",
   "execution_count": 2,
   "metadata": {},
   "outputs": [
    {
     "name": "stdout",
     "output_type": "stream",
     "text": [
      "{'a': ['b', 'c'], 'b': ['a', 'd'], 'c': ['a', 'd'], 'd': ['e'], 'e': ['d']}\n"
     ]
    }
   ],
   "source": [
    "# a---b\n",
    "# |   |\n",
    "# c---d---e\n",
    "\n",
    "#Vertices = {a,b,c,d,e}\n",
    "#Edges = {ab,ac,bd,cd,de}\n",
    "\n",
    "#create the dict with graph elements\n",
    "graph = {\"a\": [\"b\",\"c\"],\n",
    "        \"b\": [\"a\",\"d\"],\n",
    "        \"c\": [\"a\",\"d\"],\n",
    "        \"d\": [\"e\"],\n",
    "        \"e\": [\"d\"]}\n",
    "\n",
    "print(graph)"
   ]
  },
  {
   "cell_type": "code",
   "execution_count": 3,
   "metadata": {},
   "outputs": [
    {
     "name": "stdout",
     "output_type": "stream",
     "text": [
      "['a', 'b', 'c', 'd', 'e']\n"
     ]
    }
   ],
   "source": [
    "#Display graph vertices\n",
    "#find the key of the graph dict\n",
    "\n",
    "class graph:\n",
    "    def __init__(self, gdict = None):\n",
    "        if gdict is None:\n",
    "            gdict = []\n",
    "        self.gdict = gdict\n",
    "        \n",
    "    #get the keys of the dict\n",
    "    def getVertices(self):\n",
    "        return list(self.gdict.keys())\n",
    "    \n",
    "#create the dict with graph elements\n",
    "graph_elements = {\"a\": [\"b\", \"c\"],\n",
    "                 \"b\": [\"a\", \"d\"],\n",
    "                 \"c\": [\"a\", \"d\"],\n",
    "                 \"d\": [\"e\"],\n",
    "                 \"e\": [\"d\"]}\n",
    "\n",
    "g = graph(graph_elements)\n",
    "\n",
    "print(g.getVertices())"
   ]
  },
  {
   "cell_type": "code",
   "execution_count": 4,
   "metadata": {},
   "outputs": [
    {
     "name": "stdout",
     "output_type": "stream",
     "text": [
      "[{'b', 'a'}, {'c', 'a'}, {'b', 'd'}, {'c', 'd'}, {'e', 'd'}]\n"
     ]
    }
   ],
   "source": [
    "#Display graph edges\n",
    "class graph:\n",
    "    def __init__(self, gdict = None):\n",
    "        if gdict is None:\n",
    "            gdict = []\n",
    "        self.gdict = gdict\n",
    "        \n",
    "    def edges(self):\n",
    "        return self.findedges()\n",
    "    \n",
    "    #find the distinct list of edges\n",
    "    def findedges(self):\n",
    "        edgename = []\n",
    "        for vrtx in self.gdict:\n",
    "            for nxtvrtx in self.gdict[vrtx]:\n",
    "                if {nxtvrtx, vrtx} not in edgename:\n",
    "                    edgename.append({vrtx, nxtvrtx})\n",
    "        return edgename\n",
    "    \n",
    "#cerate the dict with graph elements:\n",
    "graph_elements = { \"a\" : [\"b\",\"c\"],\n",
    "                \"b\" : [\"a\", \"d\"],\n",
    "                \"c\" : [\"a\", \"d\"],\n",
    "                \"d\" : [\"e\"],\n",
    "                \"e\" : [\"d\"]\n",
    "                }\n",
    "\n",
    "g = graph(graph_elements)\n",
    "\n",
    "print(g.edges())"
   ]
  },
  {
   "cell_type": "code",
   "execution_count": 5,
   "metadata": {},
   "outputs": [
    {
     "name": "stdout",
     "output_type": "stream",
     "text": [
      "['a', 'b', 'c', 'd', 'e', 'f']\n"
     ]
    }
   ],
   "source": [
    "#Adding a vertex\n",
    "class graph:\n",
    "    \n",
    "    def __init__(self, gdict = None):\n",
    "        if gdict is None:\n",
    "            gdict = {}\n",
    "        self.gdict = gdict\n",
    "        \n",
    "    def getVertices(self):\n",
    "        return list(self.gdict.keys())\n",
    "    \n",
    "#Add the vertex as a key\n",
    "    def addVertex(self, vrtx):\n",
    "        if vrtx not in self.gdict:\n",
    "            self.gdict[vrtx] = []\n",
    "            \n",
    "#create the dict with graph elements:\n",
    "graph_elements = { \"a\" : [\"b\",\"c\"],\n",
    "                \"b\" : [\"a\", \"d\"],\n",
    "                \"c\" : [\"a\", \"d\"],\n",
    "                \"d\" : [\"e\"],\n",
    "                \"e\" : [\"d\"]\n",
    "                }\n",
    "\n",
    "g = graph(graph_elements)\n",
    "\n",
    "g.addVertex(\"f\")\n",
    "\n",
    "print(g.getVertices())"
   ]
  },
  {
   "cell_type": "code",
   "execution_count": 6,
   "metadata": {},
   "outputs": [
    {
     "name": "stdout",
     "output_type": "stream",
     "text": [
      "[{'b', 'a'}, {'c', 'a'}, {'b', 'd'}, {'c', 'd'}, {'e', 'd'}, {'e', 'a'}]\n"
     ]
    }
   ],
   "source": [
    "#Adding an edge\n",
    "class graph:\n",
    "    \n",
    "    def __init__(self, gdict = None):\n",
    "        if gdict is None:\n",
    "            gdict = []\n",
    "        self.gdict = gdict\n",
    "        \n",
    "    def edges(self):\n",
    "        return self.findedges()\n",
    "    \n",
    "    #Add the new edge\n",
    "    def AddEdge(self, edge):\n",
    "        edge = set(edge)\n",
    "        (vrtx1,vrtx2) = tuple(edge)\n",
    "        if vrtx1 in self.gdict:\n",
    "            self.gdict[vrtx1].append(vrtx2)\n",
    "        else:\n",
    "            self.gdict[vrtx1] = [vrtx2]\n",
    "            \n",
    "    #List the edge names\n",
    "    def findedges(self):\n",
    "        edgenames = []\n",
    "        for vrtx in self.gdict:\n",
    "            for nxtvrtx in self.gdict[vrtx]:\n",
    "                if {nxtvrtx, vrtx} not in edgenames:\n",
    "                    edgenames.append({vrtx, nxtvrtx})\n",
    "        return edgenames\n",
    "    \n",
    "graph_elements = { \"a\" : [\"b\",\"c\"],\n",
    "                \"b\" : [\"a\", \"d\"],\n",
    "                \"c\" : [\"a\", \"d\"],\n",
    "                \"d\" : [\"e\"],\n",
    "                \"e\" : [\"d\"]\n",
    "                }\n",
    "\n",
    "g = graph(graph_elements)\n",
    "g.AddEdge({\"a\",\"e\"})\n",
    "g.AddEdge({\"a\",\"c\"})\n",
    "print(g.edges())"
   ]
  },
  {
   "cell_type": "code",
   "execution_count": 12,
   "metadata": {},
   "outputs": [
    {
     "name": "stdout",
     "output_type": "stream",
     "text": [
      "BFS starting from vertex 2:\n",
      "2 0 3 1 "
     ]
    }
   ],
   "source": [
    "#Breadth First Traversal/Search or BFS for Graph\n",
    "\n",
    "#graphs may contain cycles, so we may end up in the same node again\n",
    "#so we use boolean visited array\n",
    "#its assumed all vertices are reachable from the starting vertex\n",
    "\n",
    "#using ADJACENCY LIST REPRESENTATION\n",
    "#adjacency list - a collection of unordered lists used to represent \n",
    "#a finite graph / the set of neighbors of a particular vertex in the graph\n",
    "\n",
    "#STL - Standard Template Library\n",
    "#STL's list container - used to store lists of adjacent nodes and queue of \n",
    "#nodes needed for BFS traversal\n",
    "\n",
    "from collections import defaultdict\n",
    "\n",
    "#graph representation class using adjacency list repr\n",
    "class Graph:\n",
    "    \n",
    "    #constructor\n",
    "    def __init__(self):\n",
    "        \n",
    "        #default dcit to store graph\n",
    "        self.graph = defaultdict(list)\n",
    "        \n",
    "    #fun to add an edge to graph\n",
    "    def addEdge(self, u, v):\n",
    "        self.graph[u].append(v)\n",
    "        \n",
    "    #fun to print a BFS of graph\n",
    "    def BFS(self, s):\n",
    "        \n",
    "        #Mark all the vertices as not visited\n",
    "        visited = [False] * (max(self.graph) + 1)\n",
    "        \n",
    "        #create a queue for BFS\n",
    "        queue = []\n",
    "        \n",
    "        #mark the source node as visited and enqueue it\n",
    "        queue.append(s)\n",
    "        visited[s] = True\n",
    "        \n",
    "        while queue:\n",
    "            \n",
    "            #dequeue a vertex from queue and print it\n",
    "            s = queue.pop(0)\n",
    "            print(s, end = \" \")\n",
    "            \n",
    "            #get all the adjacent vertices of the dequeued vertex s\n",
    "            #if a adjcanet nor visited - mark visited and enqueue\n",
    "            for i in self.graph[s]:\n",
    "                if visited[i] == False:\n",
    "                    queue.append(i)\n",
    "                    visited[i] = True\n",
    "                    \n",
    "#create a grpah\n",
    "g = Graph()\n",
    "g.addEdge(0,1)\n",
    "g.addEdge(0,2)\n",
    "g.addEdge(1,2)\n",
    "g.addEdge(2,0)\n",
    "g.addEdge(2,3)\n",
    "g.addEdge(3,3)\n",
    "\n",
    "print(\"BFS starting from vertex 2:\")\n",
    "g.BFS(2)"
   ]
  },
  {
   "cell_type": "code",
   "execution_count": null,
   "metadata": {},
   "outputs": [],
   "source": []
  }
 ],
 "metadata": {
  "kernelspec": {
   "display_name": "Python 3",
   "language": "python",
   "name": "python3"
  },
  "language_info": {
   "codemirror_mode": {
    "name": "ipython",
    "version": 3
   },
   "file_extension": ".py",
   "mimetype": "text/x-python",
   "name": "python",
   "nbconvert_exporter": "python",
   "pygments_lexer": "ipython3",
   "version": "3.8.5"
  }
 },
 "nbformat": 4,
 "nbformat_minor": 4
}
