{
 "cells": [
  {
   "cell_type": "code",
   "execution_count": 1,
   "metadata": {},
   "outputs": [],
   "source": [
    "#tutorialspoint.com\n",
    "\n",
    "#arranging data in a particular order(eg numerical or lexicographical)\n",
    "#data searching can be optimized\n",
    "#more readable format\n",
    "\n",
    "#sorting implementation in Python:\n",
    "#Bubble Sort\n",
    "#Merge Sort\n",
    "#Insertion Sort\n",
    "#Shell Sort\n",
    "#Selection Sort"
   ]
  },
  {
   "cell_type": "code",
   "execution_count": 3,
   "metadata": {},
   "outputs": [
    {
     "name": "stdout",
     "output_type": "stream",
     "text": [
      "[2, 4, 5, 8, 19, 31, 44, 66, 88, 251, 425, 5243]\n"
     ]
    }
   ],
   "source": [
    "#BUBBLE SORT\n",
    "#comparison-based algorithm / each pair of adjacent elements is compared\n",
    "#elements swapped ifnot ordered\n",
    "\n",
    "def bubblesort(list):\n",
    "    \n",
    "    for iter_num in range(len(list)-1, 0, -1):\n",
    "        for idx in range(iter_num):\n",
    "            if list[idx] > list[idx + 1]:\n",
    "                temp = list[idx]\n",
    "                list[idx] = list[idx + 1]\n",
    "                list[idx + 1] = temp\n",
    "                \n",
    "list = [19,2,31,44,5243,66,5,8,88,4,251,425]\n",
    "bubblesort(list)\n",
    "print(list)"
   ]
  },
  {
   "cell_type": "code",
   "execution_count": null,
   "metadata": {},
   "outputs": [],
   "source": [
    "#MERGE SORT\n",
    "#divides the array into equal halves adn combines them in a sorted manner\n",
    "\n",
    "def mergesort(unsorted_list):\n",
    "    if len(unsorted_list) <= 1:\n",
    "        return unsorted_list\n",
    "    \n",
    "    middle = len(unsorted_list) // 2\n",
    "    left_list = unsorted_list[:middle]\n",
    "    right_list = unsorted_list[middle:]\n",
    "    \n",
    "    left_list = mergesort(left_list)\n",
    "    right_list = mergesort(right_list)\n",
    "    return merge(left_list, right_list)\n",
    "\n",
    "#merge the sorted halves\n",
    "def merge(left_half, right_half):\n",
    "    \n",
    "    res = []\n",
    "    while len(left_half) != 0 and len(right_half) != 0:\n",
    "        if left_half[0] < right_half[0]:\n",
    "            res.append(left_half[0])\n",
    "            left_half.remove(left_half[0])\n",
    "        else:\n",
    "            res.append(right_half[0])\n",
    "            right_half.remove(right_half[0])\n",
    "    \n",
    "    if len(left_half) == 0:\n",
    "        res = res + right_half\n",
    "    else:\n",
    "        res = res + left_half\n",
    "    return res\n",
    "\n",
    "unsorted_list = [64, 34, 25, 12, 22, 11, 90]\n",
    "print(mergesort(unsorted_list))"
   ]
  },
  {
   "cell_type": "code",
   "execution_count": 13,
   "metadata": {},
   "outputs": [
    {
     "name": "stdout",
     "output_type": "stream",
     "text": [
      "[3, 5, 5, 6, 12, 35, 75, 89, 90, 436, 462, 4848]\n"
     ]
    }
   ],
   "source": [
    "#SHELL SORT\n",
    "#sorting elements away from each other\n",
    "#large sublist of a given list\n",
    "#go on reducing the size of the list units till all elems are sorted\n",
    "#half ans sort / half and sort / half and sort\n",
    "\n",
    "def shellsort(input_list):\n",
    "    \n",
    "    gap = len(input_list) // 2\n",
    "    while gap > 0:\n",
    "        for i in range(gap, len(input_list)):\n",
    "            temp = input_list[i]\n",
    "            j = i\n",
    "            \n",
    "            #sort the sub list for this gap\n",
    "            while j >= gap and input_list[j-gap] > temp:\n",
    "                input_list[j] = input_list[j - gap]\n",
    "                j = j - gap\n",
    "            input_list[j] = temp\n",
    "            \n",
    "        #reduce the gap for the next elem\n",
    "        gap = gap // 2\n",
    "        \n",
    "list = [12,436,5,4848,462,6,5,3,75,35,89,90]\n",
    "shellsort(list)\n",
    "print(list)"
   ]
  },
  {
   "cell_type": "code",
   "execution_count": 14,
   "metadata": {},
   "outputs": [
    {
     "name": "stdout",
     "output_type": "stream",
     "text": [
      "[3, 5, 5, 6, 12, 35, 75, 89, 90, 436, 462, 4848]\n"
     ]
    }
   ],
   "source": [
    "#SELECTION SORT\n",
    "#finding the min val in a list and moving to a sorted list\n",
    "#repeat for each element\n",
    "#the next elem into the sort list is compared with the exisitng and placed\n",
    "\n",
    "def selection(input_list):\n",
    "    \n",
    "    for idx in range(len(input_list)):\n",
    "        \n",
    "        min_idx = idx\n",
    "        for j in range(idx + 1, len(input_list)):\n",
    "            if input_list[min_idx] > input_list[j]:\n",
    "                min_idx = j\n",
    "                \n",
    "        #swap min val with the compared val\n",
    "        input_list[idx], input_list[min_idx] = input_list[min_idx], input_list[idx]\n",
    "        \n",
    "l = [12,436,5,4848,462,6,5,3,75,35,89,90]\n",
    "selection(l)\n",
    "print(l)"
   ]
  },
  {
   "cell_type": "code",
   "execution_count": 17,
   "metadata": {},
   "outputs": [
    {
     "name": "stdout",
     "output_type": "stream",
     "text": [
      "[0, 1, 2, 3, 4, 5, 6, 8, 99]\n"
     ]
    }
   ],
   "source": [
    "#stackabuse.com\n",
    "\n",
    "#BUBBLE SORT\n",
    "#comparing the first two elems\n",
    "#if the 1st elem is larger - swap them\n",
    "#if already in order - leave them\n",
    "#move to the next pair of elems\n",
    "\n",
    "#highly inefficient\n",
    "#what if only one pair needs to be swapped?\n",
    "#why should we iterate it n^2 times? even if its sorted\n",
    "\n",
    "def bubble(nums):\n",
    "    \n",
    "    #set swapped to True so the loop looks runs at least once\n",
    "    swapped = True\n",
    "    while swapped:\n",
    "        swapped = False\n",
    "        for i in range(len(nums) - 1):\n",
    "            if nums[i] > nums[i + 1]:\n",
    "                \n",
    "                #swapping the elems if its larger\n",
    "                nums[i], nums[i+1] = nums[i+1], nums[i]\n",
    "                \n",
    "                #setting the flag to True so we'll loop again\n",
    "                swapped = True\n",
    "                \n",
    "nums1 = [4,5,2,1,3,6,8,99,0]\n",
    "bubble(nums1)\n",
    "print(nums1)\n",
    "\n",
    "\n",
    "#algorithm runs in a while loop\n",
    "#only breaking when no items are swapped\n",
    "#set swapped to True firstly to ensure that the algorithm runs at least once\n",
    "\n",
    "#O(n^2)"
   ]
  },
  {
   "cell_type": "code",
   "execution_count": 19,
   "metadata": {},
   "outputs": [
    {
     "name": "stdout",
     "output_type": "stream",
     "text": [
      "[3, 5, 5, 6, 12, 35, 75, 89, 90, 436, 462, 4848]\n"
     ]
    }
   ],
   "source": [
    "#SELECTION SORT\n",
    "#segment the list into  2 parts: sorted / unsorted\n",
    "#remove the smallest elem of the unsorted segm of the list and append to sorted\n",
    "\n",
    "#no need to make a new list for sorted\n",
    "#leftmost part - treat as sorted\n",
    "#search the entire list for the smallest elem and swap it with the first\n",
    "#then the smallest again and swap with the second elem\n",
    "#till th last to be examined\n",
    "\n",
    "def selection(nums):\n",
    "    \n",
    "    #the val of i goes to how many vals were sorted\n",
    "    for i in range(len(nums)):\n",
    "        \n",
    "        #assume that the first elem picked of the unsorted, is the smallest\n",
    "        lowest_val_idx = i\n",
    "        #loop iterats over the unsorted itmes\n",
    "        for j in range(i + 1, len(nums)):\n",
    "            if nums[j] < nums[lowest_val_idx]:\n",
    "                lowest_val_idx = j\n",
    "                \n",
    "        #swap vals of the lowest unsorted elem with the first unsorted elem\n",
    "        nums[i], nums[lowest_val_idx] = nums[lowest_val_idx], nums[i]\n",
    "        \n",
    "l = [12,436,5,4848,462,6,5,3,75,35,89,90]\n",
    "selection(l)\n",
    "print(l)\n",
    "\n",
    "\n",
    "#as i increases, we need to check less items\n",
    "\n",
    "#O(n^2)"
   ]
  },
  {
   "cell_type": "code",
   "execution_count": 21,
   "metadata": {},
   "outputs": [
    {
     "name": "stdout",
     "output_type": "stream",
     "text": [
      "[3, 5, 6, 12, 35, 75, 89, 90, 462]\n"
     ]
    }
   ],
   "source": [
    "#INSERTION SORT\n",
    "\n",
    "#segment into sorted and unsorted\n",
    "#itearate over the unsorted\n",
    "#insert the checked elem into the correct position of the sorted list\n",
    "\n",
    "#assume the first elem is sorted\n",
    "#go to the next elem, lets say its X\n",
    "#if X is larger - the first elem stays where it was\n",
    "#if X is smaller - val of this elem goes first, and first to second\n",
    "#continously moving the larger elems up the list\n",
    "\n",
    "def insertion(nums):\n",
    "    \n",
    "    #start on the second elem since we assume the 1st is sorted\n",
    "    for i in range(1, len(nums)):\n",
    "        item_to_insert = nums[i]\n",
    "        \n",
    "        #keep a referance of the idx of the prev elem\n",
    "        j = i - 1\n",
    "        \n",
    "        #move forward items of sorted segm if larger than to item_to_insert\n",
    "        while j >= 0 and nums[j] > item_to_insert:\n",
    "            nums[j + 1] = nums[j]\n",
    "            j -= 1\n",
    "            \n",
    "        #insert the item\n",
    "        nums[j + 1] = item_to_insert\n",
    "        \n",
    "l = [12,462,6,5,3,75,35,89,90]\n",
    "insertion(l)\n",
    "print(l)\n",
    "\n",
    "\n",
    "#O(n^2)"
   ]
  },
  {
   "cell_type": "code",
   "execution_count": 24,
   "metadata": {},
   "outputs": [
    {
     "name": "stdout",
     "output_type": "stream",
     "text": [
      "[3, 5, 5, 6, 12, 75, 436, 462, 4848]\n"
     ]
    }
   ],
   "source": [
    "#HEAP SORT\n",
    "\n",
    "#sorts, segments the list into sorted and unsorted\n",
    "#converts the unsorted to heap data structure\n",
    "#efficientyl determining the largest elem\n",
    "\n",
    "#begin with transforming the list into MAX HEAP \n",
    "#binary tree where he biggest val is root node\n",
    "#place items till the end of the list\n",
    "#rebuilding mac heap with one less val, placing the laergest again in root\n",
    "#iretation till all nodes are removed\n",
    "\n",
    "\n",
    "#helper function to implement the algorithm\n",
    "def heapify(nums, heap_size, root_index):\n",
    "    \n",
    "    #assume the idx of the largest elem is the root idx\n",
    "    largest = root_index\n",
    "    leftChild = (2 * root_index) + 1\n",
    "    rightChild = (2 * root_index) + 2\n",
    "    \n",
    "    #if LChild of root is a valid idx and the elem is greater than the curr\n",
    "    #largest - update the largest elem\n",
    "    if leftChild < heap_size and nums[leftChild] > nums[largest]:\n",
    "        largest = leftChild\n",
    "        \n",
    "    #the same for RChild\n",
    "    if rightChild < heap_size and nums[rightChild] > nums[largest]:\n",
    "        largest = rightChild\n",
    "        \n",
    "    #if the largest elem is no longer the root elem, swap them\n",
    "    if largest != root_index:\n",
    "        nums[root_index], nums[largest] = nums[largest], nums[root_index]\n",
    "        \n",
    "        #heapify the new root elem to ensure its the largest\n",
    "        heapify(nums, heap_size, largest)\n",
    "        \n",
    "        \n",
    "def heap(nums):\n",
    "    n = len(nums)\n",
    "    \n",
    "    #create a max heap from the list\n",
    "    #2nd arg in range says we stop before -1\n",
    "    #3rd - itearte backwards, redcuing the counts by 1\n",
    "    \n",
    "    for i in range(n, -1, -1):\n",
    "        heapify(nums, n, i)\n",
    "        \n",
    "    #move the root of the max heap to the end of\n",
    "    for i in range(n - 1, 0, -1):\n",
    "        nums[i], nums[0] = nums[0], nums[i]\n",
    "        heapify(nums, i, 0)\n",
    "        \n",
    "        \n",
    "l = [12,436,5,4848,462,6,5,3,75]\n",
    "heap(l)\n",
    "print(l)\n",
    "\n",
    "\n",
    "#O(nlog(n))"
   ]
  },
  {
   "cell_type": "code",
   "execution_count": 33,
   "metadata": {},
   "outputs": [
    {
     "name": "stdout",
     "output_type": "stream",
     "text": [
      "[2, 2, 3, 4, 5, 6, 7, 8, 44, 777]\n"
     ]
    }
   ],
   "source": [
    "#MERGE SORT\n",
    "\n",
    "#splits a list in half\n",
    "#keeps spliting by 2 until has singular element\n",
    "#adjacent elems become sorted pairs, then the pairs are merged and sorted\n",
    "#keeps until all the elems from the unsorted list are used\n",
    "\n",
    "def merge(left_list, right_list):\n",
    "    sorted_list = []\n",
    "    llist_idx = rlist_idx = 0\n",
    "    \n",
    "    #length of lists is used ften so make variables\n",
    "    llist_len, rlist_len = len(left_list), len(right_list)\n",
    "    \n",
    "    for _ in range(llist_len + rlist_len):\n",
    "        if llist_idx < llist_len and rlist_idx < rlist_len:\n",
    "            \n",
    "            #check which val from the start of each list is smaller\n",
    "            #if the item at the beginning of left list is smaller,\n",
    "            #add it to the sorted list\n",
    "            if left_list[llist_idx] <= right_list[rlist_idx]:\n",
    "                sorted_list.append(left_list[llist_idx])\n",
    "                llist_idx += 1\n",
    "                \n",
    "            #if the item at the beginning of right list is smaller, add it\n",
    "            else:\n",
    "                sorted_list.append(right_list[rlist_idx])\n",
    "                rlist_idx += 1\n",
    "                \n",
    "        #if we reached the end of the left list, add the elems from rlist\n",
    "        elif llist_idx == llist_len:\n",
    "            sorted_list.append(right_list[rlist_idx])\n",
    "            rlist_idx += 1\n",
    "            \n",
    "        #if reached the end of right list, add the elems from left list\n",
    "        elif rlist_idx == rlist_len:\n",
    "            sorted_list.append(left_list[llist_idx])\n",
    "            llist_idx += 1\n",
    "            \n",
    "    return sorted_list\n",
    "\n",
    "def merge_sort(nums):\n",
    "    \n",
    "    #the list is one elem - return it\n",
    "    if len(nums) <= 1:\n",
    "        return nums\n",
    "    \n",
    "    #floor division toget middle, idx int\n",
    "    mid = len(nums) // 2\n",
    "    \n",
    "    #sort and merge each half\n",
    "    left_list = merge_sort(nums[:mid])\n",
    "    right_list = merge_sort(nums[mid:])\n",
    "    \n",
    "    #merge the sorted lsits into a new one\n",
    "    return merge(left_list, right_list)\n",
    "\n",
    "\n",
    "l = [4,5,3,2,6,7,44,777,8,2]\n",
    "l = merge_sort(l)\n",
    "print(l)\n",
    "\n",
    "\n",
    "#unlike prev soritng algs, returns a new list that is sorted\n",
    "#not sorting the exisiting list\n",
    "\n",
    "#requires spaceto create a new list\n",
    "\n",
    "#O(nlog(n))"
   ]
  },
  {
   "cell_type": "code",
   "execution_count": 45,
   "metadata": {},
   "outputs": [
    {
     "name": "stdout",
     "output_type": "stream",
     "text": [
      "[2, 2, 3, 4, 5, 6, 7, 8, 44, 777]\n"
     ]
    }
   ],
   "source": [
    "#QUICK SORT\n",
    "\n",
    "#by partitioning the list\n",
    "#pick one val that will be in its sorted place - called PIVOT\n",
    "#elems smaller than pivot - moved to the left\n",
    "#elems larger - to the right\n",
    "#recursively soritng the vals arounf the pivot till list is epmty\n",
    "\n",
    "#QUICK SORT PARTITION\n",
    "#this implementation is by Hoare partition scheme\n",
    "#Tony Hoare also created the quick sort algorithm\n",
    "\n",
    "def partition(nums, low, high):\n",
    "    #here pivot is the middle elem but some implementations choose \n",
    "    #first or last elem\n",
    "    #sometimes the median val\n",
    "    pivot = nums[(low + high) // 2]\n",
    "    i = low - 1\n",
    "    j = high + 1\n",
    "    while True:\n",
    "        i += 1\n",
    "        while nums[i] < pivot:\n",
    "            i += 1\n",
    "            \n",
    "        j -= 1\n",
    "        while nums[j] > pivot:\n",
    "            j -= 1\n",
    "            \n",
    "        if i >= j:\n",
    "            return j\n",
    "        \n",
    "        #if elem at i (left of the pivot) is larger thsn the elem at j(R)\n",
    "        #swap them\n",
    "        nums[i], nums[j] = nums[j], nums[i]\n",
    "        \n",
    "def quick_sort(nums):\n",
    "    \n",
    "    #helper fun called recursively\n",
    "    def _quick_sort(items, low, high):\n",
    "        if low < high:\n",
    "            \n",
    "            #This is the index after the pivot, where lists are split\n",
    "            split_index = partition(items, low, high)\n",
    "            _quick_sort(items, low, split_index)\n",
    "            _quick_sort(items, split_index + 1, high)\n",
    "            \n",
    "    _quick_sort(nums, 0, len(nums) - 1)\n",
    "    \n",
    "l = [4,5,3,2,6,7,44,777,8,2]\n",
    "quick_sort(l)\n",
    "print(l)\n",
    "\n",
    "\n",
    "#O(nlog(n))"
   ]
  },
  {
   "cell_type": "code",
   "execution_count": 38,
   "metadata": {},
   "outputs": [
    {
     "name": "stdout",
     "output_type": "stream",
     "text": [
      "[1, 1, 2, 2, 4, 5, 9]\n"
     ]
    }
   ],
   "source": [
    "#sorting built-in functions\n",
    "\n",
    "#sort() method\n",
    "my_list = [2,4,5,1,1,2,9]\n",
    "my_list.sort()\n",
    "print(my_list)"
   ]
  },
  {
   "cell_type": "code",
   "execution_count": 39,
   "metadata": {},
   "outputs": [
    {
     "name": "stdout",
     "output_type": "stream",
     "text": [
      "[1, 1, 2, 2, 4, 5, 9]\n"
     ]
    }
   ],
   "source": [
    "#sorted() function\n",
    "my_list = [2,4,5,1,1,2,9]\n",
    "my_list = sorted(my_list)\n",
    "print(my_list)"
   ]
  },
  {
   "cell_type": "code",
   "execution_count": 41,
   "metadata": {},
   "outputs": [
    {
     "name": "stdout",
     "output_type": "stream",
     "text": [
      "[9, 5, 4, 2, 2, 1, 1]\n"
     ]
    }
   ],
   "source": [
    "#descending order\n",
    "my_list = [2,4,5,1,1,2,9]\n",
    "my_list.sort(reverse = True)\n",
    "print(my_list)"
   ]
  },
  {
   "cell_type": "code",
   "execution_count": 42,
   "metadata": {},
   "outputs": [
    {
     "name": "stdout",
     "output_type": "stream",
     "text": [
      "[9, 5, 4, 2, 2, 1, 1]\n"
     ]
    }
   ],
   "source": [
    "my_list = [2,4,5,1,1,2,9]\n",
    "my_list = sorted(my_list, reverse = True)\n",
    "print(my_list)"
   ]
  },
  {
   "cell_type": "code",
   "execution_count": null,
   "metadata": {},
   "outputs": [],
   "source": []
  }
 ],
 "metadata": {
  "kernelspec": {
   "display_name": "Python 3",
   "language": "python",
   "name": "python3"
  },
  "language_info": {
   "codemirror_mode": {
    "name": "ipython",
    "version": 3
   },
   "file_extension": ".py",
   "mimetype": "text/x-python",
   "name": "python",
   "nbconvert_exporter": "python",
   "pygments_lexer": "ipython3",
   "version": "3.8.5"
  }
 },
 "nbformat": 4,
 "nbformat_minor": 4
}
