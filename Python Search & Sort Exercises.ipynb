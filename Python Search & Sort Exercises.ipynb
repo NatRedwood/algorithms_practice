{
 "cells": [
  {
   "cell_type": "code",
   "execution_count": 1,
   "metadata": {},
   "outputs": [
    {
     "name": "stdout",
     "output_type": "stream",
     "text": [
      "3\n"
     ]
    }
   ],
   "source": [
    "#Write a Python program for linear search\n",
    "\n",
    "def LinearSearch(item_list, item):\n",
    "    for i in range(len(item_list)):\n",
    "        if item_list[i] == item:\n",
    "            return i\n",
    "        \n",
    "print(LinearSearch([11,23,58,31,56,77,43,12,65,19],31))"
   ]
  },
  {
   "cell_type": "code",
   "execution_count": 2,
   "metadata": {},
   "outputs": [
    {
     "name": "stdout",
     "output_type": "stream",
     "text": [
      "(False, 8)\n",
      "(True, 7)\n"
     ]
    }
   ],
   "source": [
    "#Write a Python program for sequential search\n",
    "\n",
    "def SequentialSearch(item_list, item):\n",
    "    \n",
    "    idx = 0\n",
    "    found = False\n",
    "    \n",
    "    while idx < len(item_list) and not found:\n",
    "        if item_list[idx] == item:\n",
    "            found = True\n",
    "        else:\n",
    "            idx = idx + 1\n",
    "            \n",
    "    return found, idx\n",
    "\n",
    "my_list = [24,53,56,21,87,1,3,45]\n",
    "print(SequentialSearch(my_list, 89))\n",
    "print(SequentialSearch(my_list, 45))"
   ]
  },
  {
   "cell_type": "code",
   "execution_count": 3,
   "metadata": {},
   "outputs": [
    {
     "name": "stdout",
     "output_type": "stream",
     "text": [
      "2\n"
     ]
    }
   ],
   "source": [
    "#Write a Python program for binary search for an ordered list\n",
    "\n",
    "def binary_search(olist, value):\n",
    "    \n",
    "    if len(olist) < 0:\n",
    "        return False\n",
    "    else:\n",
    "        midpoint = len(olist) // 2\n",
    "        if olist[midpoint] == value:\n",
    "            return midpoint\n",
    "        elif value > olist[midpoint]:\n",
    "            return binary_search(olist[midpoint:], item)\n",
    "        else:\n",
    "            return binary_search(olist[:midpoint], item)\n",
    "        \n",
    "print(binary_search([1,2,44,56,89], 44))"
   ]
  },
  {
   "cell_type": "code",
   "execution_count": 4,
   "metadata": {},
   "outputs": [
    {
     "name": "stdout",
     "output_type": "stream",
     "text": [
      "[2, 3, 4, 5, 7, 8]\n"
     ]
    }
   ],
   "source": [
    "#Write a Python program to sort a list of elements \n",
    "#using the bubble sort algorithm\n",
    "\n",
    "#comparison sort\n",
    "\n",
    "def BubbleSort(mylist):\n",
    "    for item_nums in range(len(mylist)-1, 0, -1):\n",
    "        for i in range(item_nums):\n",
    "            if mylist[i]>mylist[i+1]:\n",
    "                temp = mylist[i]\n",
    "                mylist[i] = mylist[i+1]\n",
    "                mylist[i+1] = temp\n",
    "                \n",
    "mylist = [5,2,3,8,7,4]\n",
    "BubbleSort(mylist)\n",
    "print(mylist)"
   ]
  },
  {
   "cell_type": "code",
   "execution_count": 5,
   "metadata": {},
   "outputs": [
    {
     "name": "stdout",
     "output_type": "stream",
     "text": [
      "[14, 43, 45, 27, 41, 46, 57, 21, 70]\n"
     ]
    }
   ],
   "source": [
    "#Write a Python program to sort a list of elements \n",
    "#using the selection sort algorithm\n",
    "\n",
    "def SelectionSort(mylist):\n",
    "    \n",
    "    for i in range(len(mylist)):\n",
    "        \n",
    "        lowest_val_index = i\n",
    "        #assume this is sorted so what?\n",
    "        #I neeed to check the rest of the list since I assumed leftmost is sorted. So I take the second val\n",
    "        \n",
    "        for j in range(i + 1, len(mylist)):\n",
    "            #cause I want to start from the sec elem but I only know that\n",
    "            #I assumed i is the lowest so it needs tobe the first\n",
    "            \n",
    "            if mylist[j] < mylist[lowest_val_index]:\n",
    "                #so I check if actually the next ums are not smaller than\n",
    "                #the assumed smallest one\n",
    "                \n",
    "                #and what then?\n",
    "                #I adjust the index cause I was talking only about values\n",
    "                lowest_val_index = j\n",
    "                \n",
    "            #now I go back to the condition;\n",
    "            #what do I do if values of j are smaller than supposedl the smallest???\n",
    "            #SWAP THE ITEMS\n",
    "            mylist[lowest_val_index],mylist[i]=mylist[i],mylist[lowest_val_index]\n",
    "        \n",
    "nlist = [14,46,43,27,57,41,45,21,70]\n",
    "SelectionSort(nlist)\n",
    "print(nlist)"
   ]
  },
  {
   "cell_type": "code",
   "execution_count": 11,
   "metadata": {},
   "outputs": [
    {
     "name": "stdout",
     "output_type": "stream",
     "text": [
      "[14, 21, 27, 41, 43, 45, 46, 57, 70]\n",
      "[14, 21, 27, 41, 43, 45, 46, 57, 70]\n"
     ]
    }
   ],
   "source": [
    "#Write a Python program to sort a list of elements using the \n",
    "#insertion sort algorithm\n",
    "\n",
    "#OK, so we assume that the first item is sorted and is the smallest lets say\n",
    "def Insertion(mylist):\n",
    "    \n",
    "    #so we start from the sec elem and itearte\n",
    "    for i in range(1, len(mylist)):\n",
    "        item_checked = mylist[i]\n",
    "        \n",
    "        #reference to the prev data point\n",
    "        #It needs to be smaller to make sense\n",
    "        j = i - 1\n",
    "        \n",
    "        while j >= 0 and mylist[j] > item_checked:\n",
    "            \n",
    "            mylist[j+1] = mylist[j]\n",
    "            \n",
    "            #I move forawrd and check more js but I move down the path\n",
    "            j -= 1\n",
    "            \n",
    "        #I g back and now I know that the next of j will be bigger so \n",
    "        #I can insert it into the checked one (so the sorted list)\n",
    "        \n",
    "        mylist[j+1] = item_checked\n",
    "        \n",
    "nlist = [14,46,43,27,57,41,45,21,70]\n",
    "Insertion(nlist)\n",
    "print(nlist)\n",
    "\n",
    "\n",
    "#different solution\n",
    "def Insertion1(nlist):\n",
    "    for index in range(1,len(nlist)):\n",
    "        \n",
    "        currentvalue = nlist[index]\n",
    "        position = index\n",
    "        \n",
    "        while position > 0 and nlist[position -1] > currentvalue:\n",
    "            nlist[position] = nlist[position-1]\n",
    "            position = position -1\n",
    "            \n",
    "        nlist[position] = currentvalue\n",
    "        \n",
    "list2 = [14,46,43,27,57,41,45,21,70]\n",
    "Insertion1(list2)\n",
    "print(list2)"
   ]
  },
  {
   "cell_type": "code",
   "execution_count": 14,
   "metadata": {},
   "outputs": [
    {
     "name": "stdout",
     "output_type": "stream",
     "text": [
      "[14, 21, 27, 41, 43, 45, 46, 57, 70]\n",
      "After increments of size 4 the list is [14, 41, 43, 21, 57, 46, 45, 27, 70]\n",
      "After increments of size 2 the list is [14, 21, 43, 27, 45, 41, 57, 46, 70]\n",
      "After increments of size 1 the list is [14, 21, 27, 41, 43, 45, 46, 57, 70]\n",
      "[14, 21, 27, 41, 43, 45, 46, 57, 70]\n"
     ]
    }
   ],
   "source": [
    "#Write a Python program to sort a list of elements \n",
    "#using shell sort algorithm\n",
    "\n",
    "#using the val of the middle as the increment\n",
    "\n",
    "def ShellSort(nlist):\n",
    "    \n",
    "    gap = len(nlist) // 2\n",
    "    while gap > 0:\n",
    "        for i in range(gap, len(nlist)):\n",
    "            curr = nlist[i]\n",
    "            j = i\n",
    "            \n",
    "            while j >= gap and nlist[j - gap] > curr:\n",
    "                nlist[j] = nlist[j - gap]\n",
    "                j = j - gap\n",
    "            nlist[j] = curr\n",
    "            \n",
    "        gap = gap // 2\n",
    "        \n",
    "nlist = [14,46,43,27,57,41,45,21,70]\n",
    "ShellSort(nlist)\n",
    "print(nlist)\n",
    "\n",
    "\n",
    "#different solution\n",
    "\n",
    "def shellsort(alist):\n",
    "    \n",
    "    increment = len(alist) // 2\n",
    "    while increment > 0:\n",
    "        for start in range(increment):\n",
    "            gap_insertionsort(alist, start, increment)\n",
    "            \n",
    "        print(\"After increments of size\", increment, \"the list is\", alist)\n",
    "        \n",
    "        increment = increment // 2\n",
    "        \n",
    "def gap_insertionsort(blist, start, gap):\n",
    "    for i in range(start + gap, len(blist), gap):\n",
    "        \n",
    "        current_val = blist[i]\n",
    "        position = i\n",
    "        \n",
    "        while position >= gap and blist[position-gap]> current_val:\n",
    "            blist[position] = blist[position - gap]\n",
    "            position = position - gap\n",
    "            \n",
    "        blist[position] = current_val\n",
    "        \n",
    "nlist = [14,46,43,27,57,41,45,21,70]\n",
    "shellsort(nlist)\n",
    "print(nlist)"
   ]
  },
  {
   "cell_type": "code",
   "execution_count": 16,
   "metadata": {},
   "outputs": [
    {
     "name": "stdout",
     "output_type": "stream",
     "text": [
      "Splitting:  [14, 46, 43, 27, 57, 41, 45, 21, 70]\n",
      "Splitting:  [14, 46, 43, 27]\n",
      "Splitting:  [14, 46]\n",
      "Splitting:  [14]\n",
      "Merging:  [14]\n",
      "Splitting:  [46]\n",
      "Merging:  [46]\n",
      "Merging:  [14, 46]\n",
      "Splitting:  [43, 27]\n",
      "Splitting:  [43]\n",
      "Merging:  [43]\n",
      "Splitting:  [27]\n",
      "Merging:  [27]\n",
      "Merging:  [27, 43]\n",
      "Merging:  [14, 27, 43, 46]\n",
      "Splitting:  [57, 41, 45, 21, 70]\n",
      "Splitting:  [57, 41]\n",
      "Splitting:  [57]\n",
      "Merging:  [57]\n",
      "Splitting:  [41]\n",
      "Merging:  [41]\n",
      "Merging:  [41, 57]\n",
      "Splitting:  [45, 21, 70]\n",
      "Splitting:  [45]\n",
      "Merging:  [45]\n",
      "Splitting:  [21, 70]\n",
      "Splitting:  [21]\n",
      "Merging:  [21]\n",
      "Splitting:  [70]\n",
      "Merging:  [70]\n",
      "Merging:  [21, 70]\n",
      "Merging:  [21, 45, 70]\n",
      "Merging:  [21, 41, 45, 57, 70]\n",
      "Merging:  [14, 21, 27, 41, 43, 45, 46, 57, 70]\n",
      "[14, 21, 27, 41, 43, 45, 46, 57, 70]\n"
     ]
    }
   ],
   "source": [
    "#Write a Python program to sort a list of elements using the \n",
    "#merge sort algorithm\n",
    "\n",
    "def mergesort(nlist):\n",
    "    print(\"Splitting: \", nlist)\n",
    "    if len(nlist) > 1:\n",
    "        mid = len(nlist) // 2\n",
    "        lefthalf = nlist[:mid]\n",
    "        righthalf = nlist[mid:]\n",
    "        \n",
    "        mergesort(lefthalf)\n",
    "        mergesort(righthalf)\n",
    "        i=j=k=0\n",
    "        \n",
    "        while i <len(lefthalf) and j < len(righthalf):\n",
    "            if lefthalf[i] < righthalf[j]:\n",
    "                nlist[k] = lefthalf[i]\n",
    "                i = i+1\n",
    "            else:\n",
    "                nlist[k] = righthalf[j]\n",
    "                j = j+1\n",
    "            k = k+1\n",
    "            \n",
    "        while i < len(lefthalf):\n",
    "            nlist[k] = lefthalf[i]\n",
    "            i = i+1\n",
    "            k = k+1\n",
    "            \n",
    "        while j < len(righthalf):\n",
    "            nlist[k] = righthalf[j]\n",
    "            j= j+1\n",
    "            k = k+1\n",
    "    print(\"Merging: \", nlist)\n",
    "    \n",
    "nlist = [14,46,43,27,57,41,45,21,70]\n",
    "mergesort(nlist)\n",
    "print(nlist)"
   ]
  },
  {
   "cell_type": "code",
   "execution_count": 18,
   "metadata": {},
   "outputs": [
    {
     "name": "stdout",
     "output_type": "stream",
     "text": [
      "[17, 20, 26, 31, 44, 54, 55, 77, 93]\n"
     ]
    }
   ],
   "source": [
    "#Write a Python program to sort a list of elements using the \n",
    "#quick sort algorithm\n",
    "\n",
    "def quicksort(data):\n",
    "    quicksort_helper(data, 0, len(data) - 1)\n",
    "    \n",
    "def quicksort_helper(data, first, last):\n",
    "    if first < last:\n",
    "        \n",
    "        splitpoint = partition(data, first, last)\n",
    "        \n",
    "        quicksort_helper(data, first, splitpoint - 1)\n",
    "        quicksort_helper(data, splitpoint + 1, last)\n",
    "        \n",
    "def partition(data, first,last):\n",
    "    pivotvalue = data[first]\n",
    "    \n",
    "    leftmark = first + 1\n",
    "    rightmark = last\n",
    "    done = False\n",
    "    \n",
    "    while not done:\n",
    "        \n",
    "        while leftmark <= rightmark and data[leftmark] <= pivotvalue:\n",
    "            leftmark = leftmark + 1\n",
    "            \n",
    "        while data[rightmark] >= pivotvalue and rightmark >= leftmark:\n",
    "            rightmark = rightmark - 1\n",
    "            \n",
    "        if rightmark < leftmark:\n",
    "            done = True\n",
    "        else:\n",
    "            temp = data[leftmark]\n",
    "            data[leftmark] = data[rightmark]\n",
    "            data[rightmark] = temp\n",
    "            \n",
    "    temp = data[first]\n",
    "    data[first] = data[rightmark]\n",
    "    data[rightmark] = temp\n",
    "    \n",
    "    \n",
    "    return rightmark\n",
    "\n",
    "data = [54,26,93,17,77,31,44,55,20]\n",
    "quicksort(data)\n",
    "print(data)"
   ]
  },
  {
   "cell_type": "code",
   "execution_count": null,
   "metadata": {},
   "outputs": [],
   "source": [
    "#Write a Python program for binary search\n",
    "\n",
    "def BinarySearch(item_list, item):\n",
    "    first = 0\n",
    "    last = len(item_list) - 1\n",
    "    found = False\n",
    "    \n",
    "    while (first <= last and not found):\n",
    "        mid = len(item_list) // 2\n",
    "        if item_list[mid] == item:\n",
    "            found = True\n",
    "        else:\n",
    "            if item < item_list[mid]:\n",
    "                last = mid -1\n",
    "            else:\n",
    "                first = mid + 1\n",
    "    return found\n",
    "\n",
    "print(BinarySearch([1,2,3], 8))\n",
    "print(BinarySearch([1,2,3], 1))"
   ]
  },
  {
   "cell_type": "code",
   "execution_count": null,
   "metadata": {},
   "outputs": [],
   "source": []
  }
 ],
 "metadata": {
  "kernelspec": {
   "display_name": "Python 3",
   "language": "python",
   "name": "python3"
  },
  "language_info": {
   "codemirror_mode": {
    "name": "ipython",
    "version": 3
   },
   "file_extension": ".py",
   "mimetype": "text/x-python",
   "name": "python",
   "nbconvert_exporter": "python",
   "pygments_lexer": "ipython3",
   "version": "3.8.5"
  }
 },
 "nbformat": 4,
 "nbformat_minor": 4
}
