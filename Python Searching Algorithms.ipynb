{
 "cells": [
  {
   "cell_type": "code",
   "execution_count": 9,
   "metadata": {},
   "outputs": [
    {
     "name": "stdout",
     "output_type": "stream",
     "text": [
      "True\n",
      "True\n",
      "False\n",
      "True\n"
     ]
    }
   ],
   "source": [
    "#MEMBERSHIP OPERATORS\n",
    "\n",
    "#they allow us to determine if a given obj is a member ina  collection\n",
    "#used with any iterable data structure in Python\n",
    "\n",
    "print('red' in ['orange', 'blue', 'black', 'red'])\n",
    "print('l' in 'language')\n",
    "print('w' in 'Natalia')\n",
    "print('w' not in 'Natalia')"
   ]
  },
  {
   "cell_type": "code",
   "execution_count": 11,
   "metadata": {},
   "outputs": [
    {
     "name": "stdout",
     "output_type": "stream",
     "text": [
      "7\n"
     ]
    }
   ],
   "source": [
    "#LINEAR SEARCH\n",
    "\n",
    "#iterating over an array and returning the index of the first occurence\n",
    "#of the item once found\n",
    "\n",
    "def LinearSearch(l, item):\n",
    "    for i in range(len(l)):\n",
    "        if l[i] == item:\n",
    "            return i\n",
    "\n",
    "print(LinearSearch([9,8,7,6,5,4,3,2,2,1], 2))\n",
    "\n",
    "#O(n) - the time taken to execute increases with # of items in input"
   ]
  },
  {
   "cell_type": "code",
   "execution_count": 30,
   "metadata": {},
   "outputs": [
    {
     "data": {
      "text/plain": [
       "1"
      ]
     },
     "execution_count": 30,
     "metadata": {},
     "output_type": "execute_result"
    }
   ],
   "source": [
    "#BINARY SEARCH\n",
    "\n",
    "#divide and conquer methodology\n",
    "#the array must be sorted before the algorithm is executed\n",
    "#RECURSION IS GENERALLY SLOWER IN PYTHON THAN ITERATION\n",
    "\n",
    "def BinarySearch(l, val):\n",
    "    first = 0\n",
    "    last = len(l)-1\n",
    "    index = -1\n",
    "    while (first <= last) and (index == -1):\n",
    "        mid = (first + last) // 2\n",
    "        if l[mid] == val:\n",
    "            index = mid\n",
    "        else:\n",
    "            if val < l[mid]:\n",
    "                last = mid - 1\n",
    "            else:\n",
    "                first = mid + 1\n",
    "    return index\n",
    "\n",
    "l = [9,8,7,6,5,4,3,2,2,1]\n",
    "BinarySearch(sorted(l), 2)   #MUST BE SORTED\n",
    "\n",
    "#O(log(n))"
   ]
  },
  {
   "cell_type": "code",
   "execution_count": 34,
   "metadata": {},
   "outputs": [
    {
     "name": "stdout",
     "output_type": "stream",
     "text": [
      "3\n"
     ]
    }
   ],
   "source": [
    "#JUMP SEARCH\n",
    "\n",
    "#only on sorted arrays\n",
    "#divide and conquer approach\n",
    "#similar to search but improved cause uses linear search\n",
    "\n",
    "#searching in jumps, we set the jump size\n",
    "#with each jump we store the prev val we looked at and its index\n",
    "#linear search when the val is inbtween jumps\n",
    "\n",
    "import math\n",
    "#math module to do the square root of a number\n",
    "\n",
    "def JumpSearch(l, val):\n",
    "    length = len(l)\n",
    "    jump = int(math.sqrt(length))\n",
    "        #determining the jump size by computing the sq root\n",
    "        #since we have 9 elements, jump size is 3 = sq(9)\n",
    "    left, right = 0, 0\n",
    "    \n",
    "    while left < length and l[left] <= val:\n",
    "        right = min(length - 1, left + jump)\n",
    "            #we compute the val of the right var so the minimum of the len\n",
    "            #of the array -1 or the val of left+jump(0+3=3)\n",
    "            #since 3<8 we use the val 3 as right\n",
    "            \n",
    "        if l[left] <= val and l[right] >= val:\n",
    "            #here wecheck if the val we want is between l[0]and l[3]\n",
    "            #its not between 1 nad 4 so we move on\n",
    "            \n",
    "            break\n",
    "        left += jump\n",
    "            #do the calculation again and check if val is between 3 adn 6\n",
    "            #in this case l[3] and l[6] cause 6 is the next jump\n",
    "            \n",
    "    if left >= length or l[left] > val:\n",
    "        return -1\n",
    "    right = min(length -1, right)\n",
    "    i = left\n",
    "    while i <= right and l[i] <= val:\n",
    "        if l[i] == val:\n",
    "            return i\n",
    "        \n",
    "        i += 1\n",
    "    return -1\n",
    "\n",
    "l = [9,8,7,6,5,4,3,2,1]\n",
    "print(JumpSearch(sorted(l), 4))\n",
    "\n",
    "#O(sq(n)) where sq(n) is the jump size and n is the length of the list\n",
    "#the biggest adventage is that it doesnt use (/) division operator"
   ]
  },
  {
   "cell_type": "code",
   "execution_count": 46,
   "metadata": {},
   "outputs": [
    {
     "name": "stdout",
     "output_type": "stream",
     "text": [
      "5\n",
      "11\n",
      "11\n"
     ]
    }
   ],
   "source": [
    "#FIBONACCI SEARCH\n",
    "\n",
    "#divie and conquer\n",
    "#each elem - addition of the 2 nums before\n",
    "#the algorithm works with 3 fibonacci nums at a time\n",
    "#initilize 3 nums firstly (0,1,1) first fib nums\n",
    "\n",
    "def FibonacciSearch(l, val):\n",
    "    fib_minus_2 = 0\n",
    "    fib_minus_1 = 1\n",
    "    fib = fib_minus_1 + fib_minus_2\n",
    "    \n",
    "    while (fib < len(l)):\n",
    "        fib_minus_2 = fib_minus_1 #???\n",
    "        fib_minus_1 = fib\n",
    "        fib = fib_minus_1 + fib_minus_2 \n",
    "    index = -1;\n",
    "    \n",
    "    while(fib > 1):\n",
    "        i = min(index + fib_minus_2, (len(l)-1))\n",
    "        if (l[i] < val):\n",
    "            fib = fib_minus_1\n",
    "            fib_minus_1 = fib_minus_2\n",
    "            fib_minus_2 = fib - fib_minus_1\n",
    "            index = i\n",
    "        elif (l[i] > val):\n",
    "            fib = fib_minus_2\n",
    "            fib_minus_1 = fib_minus_1 - fib_minus_2\n",
    "            fib_minus_2 = fib - fib_minus_1\n",
    "        else:\n",
    "            return i\n",
    "        \n",
    "    if(fib_minus_1 and index < (len(l) -1) and l[index+1] == val):\n",
    "        return index + 1\n",
    "    return -1\n",
    "\n",
    "\n",
    "print(FibonacciSearch([1,2,3,4,5,6,7,8,9,10,11], 6))\n",
    "print(len(l))\n",
    "print(l[10])\n",
    "\n",
    "#O(log(n)), the same as binary search\n",
    "#faster than both: jump and linear search\n",
    "#very large number of elems"
   ]
  },
  {
   "cell_type": "code",
   "execution_count": 49,
   "metadata": {},
   "outputs": [
    {
     "name": "stdout",
     "output_type": "stream",
     "text": [
      "2\n"
     ]
    }
   ],
   "source": [
    "#EXPONENTIAL SEARCH\n",
    "\n",
    "#galooping search / doubling search / Struzik search\n",
    "#determining the range the elem is likely to be\n",
    "#using binary search for the range to find the exact index of the elem\n",
    "\n",
    "def ExponentialSearch(l, val):\n",
    "    \n",
    "    if l[0] == val:\n",
    "        return 0\n",
    "    #checking whether the first elem matches val we want to search\n",
    "    \n",
    "    #its not the 1st elem so we set the idx to 1\n",
    "    index = 1\n",
    "    while index < len(l) and l[index] <= val:\n",
    "    #while the item at the idx'th position is less than or equal to val, \n",
    "    #we exponentailly increase the val of idx by multipying by 2:\n",
    "        \n",
    "        index = index * 2\n",
    "        #1*2=2(3); KEEP GOING;2*2=4(5); loop breaks at some point\n",
    "        \n",
    "        #then performs a binary search by sciling the list arr[:4]\n",
    "    return BinarySearch(arr[:min(index, len(l))], val)\n",
    "\n",
    "print(BinarySearch([1,2,3,4,5,6,7], 3)) #actually:BinarySearch([1,2,3,4], 3)\n",
    "\n",
    "\n",
    "#O(log(i)) where i is the idx\n",
    "#worst case: O(log(n)) where n is the length of the arr\n"
   ]
  },
  {
   "cell_type": "code",
   "execution_count": 51,
   "metadata": {},
   "outputs": [
    {
     "name": "stdout",
     "output_type": "stream",
     "text": [
      "5\n"
     ]
    }
   ],
   "source": [
    "#INTERPOLATION SEARCH\n",
    "\n",
    "#divide and conquer\n",
    "#not always begin from the middle \n",
    "\n",
    "#calculates the probable pos of the elem by using:\n",
    "#idx = low + [(val-lys[low])*(high-low) / (lys[high]-lys[low])]\n",
    "\n",
    "\n",
    "def InterpolationSearch(l, val):\n",
    "    low = 0\n",
    "    high = (len(l) -1)\n",
    "    while low <= high and val >= l[low] and val<= l[high]:\n",
    "        index = low + int(((float(high - low) / (l[high]-l[low])) * (val - l[low])))\n",
    "        if l[index] == val:\n",
    "            return index\n",
    "        if val < l[index]:\n",
    "            high = index - 1\n",
    "        else:\n",
    "            low = index + 1\n",
    "    return -1\n",
    "\n",
    "print(InterpolationSearch([1,2,3,4,5,6,7,8], 6))\n",
    "\n",
    "\n",
    "#O(log log n)"
   ]
  },
  {
   "cell_type": "code",
   "execution_count": 65,
   "metadata": {},
   "outputs": [
    {
     "name": "stdout",
     "output_type": "stream",
     "text": [
      "0.0\n"
     ]
    }
   ],
   "source": [
    "#to compare the performance of search algorithms - time library\n",
    "\n",
    "import time\n",
    "\n",
    "start = time.time()\n",
    "\n",
    "end = time.time()\n",
    "print(start-end)"
   ]
  },
  {
   "cell_type": "code",
   "execution_count": null,
   "metadata": {},
   "outputs": [],
   "source": [
    "#If you want to search through an unsorted array or to find the \n",
    "#first occurrence of a search variable, the best option is linear search.\n",
    "\n",
    "#If you want to search through a sorted array, there are many \n",
    "#options of which the simplest and fastest method is binary search.\n",
    "\n",
    "#If you have a sorted array that you want to search through without using \n",
    "#the division operator, you can use either jump search or Fibonacci search.\n",
    "\n",
    "#If you know that the element you're searching for is likely to be \n",
    "#closer to the start of the array, you can use exponential search.\n",
    "\n",
    "#If your sorted array is also uniformly distributed, the fastest \n",
    "#and most efficient search algorithm to use would be interpolation search."
   ]
  }
 ],
 "metadata": {
  "kernelspec": {
   "display_name": "Python 3",
   "language": "python",
   "name": "python3"
  },
  "language_info": {
   "codemirror_mode": {
    "name": "ipython",
    "version": 3
   },
   "file_extension": ".py",
   "mimetype": "text/x-python",
   "name": "python",
   "nbconvert_exporter": "python",
   "pygments_lexer": "ipython3",
   "version": "3.8.5"
  }
 },
 "nbformat": 4,
 "nbformat_minor": 4
}
